{
  "cells": [
    {
      "cell_type": "markdown",
      "metadata": {},
      "source": [
        "# Get ready\n",
        "Download nuget packages and extensions to investigate"
      ]
    },
    {
      "cell_type": "code",
      "execution_count": 1,
      "metadata": {
        "dotnet_interactive": {
          "language": "csharp"
        }
      },
      "source": [
        "#r \"nuget:Microsoft.DotNet.Interactive.ExtensionLab, 1.0.0-beta.21215.5\""
      ],
      "outputs": []
    },
    {
      "cell_type": "markdown",
      "metadata": {},
      "source": [
        "# Lets load user feedback\n",
        "Using `#!value` we laod the feedback and get the list of urls with probelms. Net we load is and explore as table with Nteract"
      ]
    },
    {
      "cell_type": "code",
      "execution_count": 1,
      "metadata": {
        "dotnet_interactive": {
          "language": "csharp"
        }
      },
      "source": [
        "#!value --name user_feedback --from-file ./report_export.json"
      ],
      "outputs": []
    },
    {
      "cell_type": "code",
      "execution_count": 1,
      "metadata": {
        "dotnet_interactive": {
          "language": "csharp"
        }
      },
      "source": [
        "#!share --from value user_feedback"
      ],
      "outputs": []
    },
    {
      "cell_type": "code",
      "execution_count": 1,
      "metadata": {
        "dotnet_interactive": {
          "language": "csharp"
        }
      },
      "source": [
        "using System.Text.Json;\n",
        "var user_feedback_json = JsonDocument.Parse(user_feedback);"
      ],
      "outputs": []
    },
    {
      "cell_type": "code",
      "execution_count": 1,
      "metadata": {
        "dotnet_interactive": {
          "language": "csharp"
        }
      },
      "source": [
        "user_feedback_json.ExploreWithNteract().Display();"
      ],
      "outputs": []
    },
    {
      "cell_type": "markdown",
      "metadata": {},
      "source": [
        "# Server logs\n",
        "Using `#!value` we load the server logs and go to see what is going on using the explorers"
      ]
    },
    {
      "cell_type": "code",
      "execution_count": 1,
      "metadata": {
        "dotnet_interactive": {
          "language": "csharp"
        }
      },
      "source": [
        "#!value --name server_logs --from-file ./serverlog.json"
      ],
      "outputs": []
    },
    {
      "cell_type": "code",
      "execution_count": 1,
      "metadata": {
        "dotnet_interactive": {
          "language": "csharp"
        }
      },
      "source": [
        "#!share --from value server_logs"
      ],
      "outputs": []
    },
    {
      "cell_type": "code",
      "execution_count": 1,
      "metadata": {
        "dotnet_interactive": {
          "language": "csharp"
        }
      },
      "source": [
        "JsonDocument.Parse(server_logs).ExploreWithNteract().Display();"
      ],
      "outputs": []
    },
    {
      "cell_type": "code",
      "execution_count": 1,
      "metadata": {
        "dotnet_interactive": {
          "language": "csharp"
        }
      },
      "source": [
        "JsonDocument.Parse(server_logs).ExploreWithSandDance().Display();"
      ],
      "outputs": []
    },
    {
      "cell_type": "markdown",
      "metadata": {},
      "source": [
        "# Data problem?\n",
        "We can't spot anything here, so we need to see if there is anything that might cause rendering issues.\n",
        "We use `#!connect` to connect to the database.\n",
        "\n",
        "We try to get a picture by quering products and joining with some metadata like the categories.\n",
        "Table view is not too informative, using EF context we look at that from SandDance"
      ]
    },
    {
      "cell_type": "code",
      "execution_count": 1,
      "metadata": {
        "dotnet_interactive": {
          "language": "csharp"
        }
      },
      "source": [
        "#r \"nuget:Microsoft.DotNet.Interactive.SqlServer,*-*\""
      ],
      "outputs": []
    },
    {
      "cell_type": "code",
      "execution_count": 1,
      "metadata": {
        "dotnet_interactive": {
          "language": "csharp"
        }
      },
      "source": [
        "#!connect mssql --kernel-name adventureworks --create-dbcontext \"Persist Security Info=False; Integrated Security=true; Initial Catalog=AdventureWorks2019; Server=localhost\""
      ],
      "outputs": []
    },
    {
      "cell_type": "code",
      "execution_count": 1,
      "metadata": {
        "dotnet_interactive": {
          "language": "csharp"
        }
      },
      "source": [
        "#!sql-adventureworks\n",
        "SELECT \n",
        "product.Name,\n",
        "product.ProductID,\n",
        "category.ProductCategoryID,\n",
        "product.ProductSubcategoryID,\n",
        "category.Name\n",
        "FROM AdventureWorks2019.Production.Product as product\n",
        "INNER JOIN AdventureWorks2019.Production.ProductCategory as category on product.ProductSubcategoryID = category.ProductCategoryID"
      ],
      "outputs": []
    },
    {
      "cell_type": "code",
      "execution_count": 1,
      "metadata": {
        "dotnet_interactive": {
          "language": "csharp"
        }
      },
      "source": [
        "#!sql-adventureworks\n",
        "select product.ProductID\n",
        ",product.Name\n",
        ",product.ProductNumber\n",
        ",sub.ProductCategoryID\n",
        ",sub.ProductSubcategoryID\n",
        "\n",
        "from AdventureWorks2019.Production.Product as product\n",
        "inner join AdventureWorks2019.Production.ProductSubcategory as sub\n",
        "on product.ProductSubcategoryID = sub.ProductSubcategoryID"
      ],
      "outputs": []
    },
    {
      "cell_type": "code",
      "execution_count": 1,
      "metadata": {
        "dotnet_interactive": {
          "language": "csharp"
        }
      },
      "source": [
        "var reportedProducts = user_feedback_json.RootElement.EnumerateArray()\n",
        ".Select(e => int.Parse( e.GetProperty(\"url\").GetString().Split('/').Last() ))\n",
        ".Distinct()\n",
        ".ToHashSet();"
      ],
      "outputs": []
    },
    {
      "cell_type": "code",
      "execution_count": 1,
      "metadata": {
        "dotnet_interactive": {
          "language": "csharp"
        }
      },
      "source": [
        "var data =  from product in adventureworks.Product\n",
        "            where reportedProducts.Contains( product.ProductId )\n",
        "            join subCatebory in adventureworks.ProductSubcategory\n",
        "            on product.ProductSubcategoryId equals subCatebory.ProductSubcategoryId\n",
        "            select new { product.ProductId\n",
        "                ,product.Name\n",
        "                ,product.ProductNumber\n",
        "                ,subCatebory.ProductSubcategoryId\n",
        "                ,subCatebory.ProductCategoryId\n",
        "                ,category = $\"{subCatebory.ProductCategoryId}-{subCatebory.ProductSubcategoryId}\"\n",
        "            };"
      ],
      "outputs": []
    },
    {
      "cell_type": "code",
      "execution_count": 1,
      "metadata": {
        "dotnet_interactive": {
          "language": "csharp"
        }
      },
      "source": [
        "data.ExploreWithSandDance().Display();"
      ],
      "outputs": []
    },
    {
      "cell_type": "markdown",
      "metadata": {},
      "source": [
        "# Nothing ...\n",
        "So let's see if we get any problem related to comments sizes or count on those products"
      ]
    },
    {
      "cell_type": "code",
      "execution_count": 1,
      "metadata": {
        "dotnet_interactive": {
          "language": "csharp"
        }
      },
      "source": [
        "var reviewData =  from review in adventureworks.ProductReview\n",
        "            join product in adventureworks.Product on review.ProductId equals product.ProductId\n",
        "            join subCatebory in adventureworks.ProductSubcategory on product.ProductSubcategoryId equals subCatebory.ProductSubcategoryId\n",
        "            where reportedProducts.Contains( product.ProductId )\n",
        "            select new { product.ProductId\n",
        "                ,product.Name\n",
        "                ,product.ProductNumber\n",
        "                ,subCatebory.ProductSubcategoryId\n",
        "                ,subCatebory.ProductCategoryId\n",
        "                ,category = $\"{subCatebory.ProductCategoryId}-{subCatebory.ProductSubcategoryId}\"\n",
        "                ,CommentLength = review.Comments.Length\n",
        "                ,review.Comments\n",
        "            };"
      ],
      "outputs": []
    },
    {
      "cell_type": "code",
      "execution_count": 1,
      "metadata": {
        "dotnet_interactive": {
          "language": "csharp"
        }
      },
      "source": [
        "reviewData.ExploreWithSandDance().Display();"
      ],
      "outputs": []
    },
    {
      "cell_type": "markdown",
      "metadata": {},
      "source": [
        "# Looks strange \n",
        "Why do we see a cluster of comments with exactly same lenght?"
      ]
    },
    {
      "cell_type": "markdown",
      "metadata": {},
      "source": [
        "# Oh my ....\n",
        "Let's create a filter on all data and let's see how much bigger this could actually be."
      ]
    },
    {
      "cell_type": "code",
      "execution_count": 1,
      "metadata": {
        "dotnet_interactive": {
          "language": "csharp"
        }
      },
      "source": [
        "var problematicData = from review in adventureworks.ProductReview\n",
        "join product in adventureworks.Product on review.ProductId equals product.ProductId\n",
        "join subCatebory in adventureworks.ProductSubcategory on product.ProductSubcategoryId equals subCatebory.ProductSubcategoryId\n",
        "where review.Comments.Contains(\"<script\")\n",
        "select new { product.ProductId\n",
        "    ,product.Name\n",
        "    ,product.ProductNumber\n",
        "    ,subCatebory.ProductSubcategoryId\n",
        "    ,subCatebory.ProductCategoryId\n",
        "    ,category = $\"{subCatebory.ProductCategoryId}-{subCatebory.ProductSubcategoryId}\"\n",
        "    ,review.Comments\n",
        "    ,review.Rating\n",
        "    ,review.EmailAddress\n",
        "    ,review.ReviewerName\n",
        "};"
      ],
      "outputs": []
    },
    {
      "cell_type": "code",
      "execution_count": 1,
      "metadata": {
        "dotnet_interactive": {
          "language": "csharp"
        }
      },
      "source": [
        "problematicData.Count()"
      ],
      "outputs": []
    },
    {
      "cell_type": "code",
      "execution_count": 1,
      "metadata": {
        "dotnet_interactive": {
          "language": "csharp"
        }
      },
      "source": [
        ""
      ],
      "outputs": []
    }
  ],
  "metadata": {
    "kernelspec": {
      "display_name": ".NET (C#)",
      "language": "C#",
      "name": ".net-csharp"
    },
    "language_info": {
      "file_extension": ".cs",
      "mimetype": "text/x-csharp",
      "name": "C#",
      "pygments_lexer": "csharp",
      "version": "8.0"
    }
  },
  "nbformat": 4,
  "nbformat_minor": 4
}