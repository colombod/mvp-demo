{
  "cells": [
    {
      "cell_type": "code",
      "execution_count": 1,
      "metadata": {
        "dotnet_interactive": {
          "language": "csharp"
        }
      },
      "source": [
        "# Tool setup\n",
        "Laoding extensions for data explroation"
      ],
      "outputs": []
    },
    {
      "cell_type": "code",
      "execution_count": 1,
      "metadata": {
        "dotnet_interactive": {
          "language": "csharp"
        }
      },
      "source": [
        "#r \"nuget:Microsoft.DotNet.Interactive.ExtensionLab, 1.0.0-beta.21215.5\""
      ],
      "outputs": []
    },
    {
      "cell_type": "code",
      "execution_count": 1,
      "metadata": {
        "dotnet_interactive": {
          "language": "csharp"
        }
      },
      "source": [
        "# Import logs\n",
        "Use `#!value` to load raw json"
      ],
      "outputs": []
    },
    {
      "cell_type": "code",
      "execution_count": 1,
      "metadata": {
        "dotnet_interactive": {
          "language": "csharp"
        }
      },
      "source": [
        "#!value --name user_feedback --from-file ./report_export.json\n",
        "\n",
        "#!value --name server_logs --from-file ./serverlog.json"
      ],
      "outputs": []
    },
    {
      "cell_type": "code",
      "execution_count": 1,
      "metadata": {
        "dotnet_interactive": {
          "language": "csharp"
        }
      },
      "source": [
        "#!share --from value user_feedback\n",
        "\n",
        "#!share --from value server_logs"
      ],
      "outputs": []
    },
    {
      "cell_type": "code",
      "execution_count": 1,
      "metadata": {
        "dotnet_interactive": {
          "language": "csharp"
        }
      },
      "source": [
        "using System.Text.Json;\n",
        "\n",
        "var user_feedback_json = JsonDocument.Parse(user_feedback);\n",
        "var server_logs_json = JsonDocument.Parse(server_logs);"
      ],
      "outputs": []
    },
    {
      "cell_type": "code",
      "execution_count": 1,
      "metadata": {
        "dotnet_interactive": {
          "language": "csharp"
        }
      },
      "source": [
        "# Explore data\n",
        "Using nteract to explore json files"
      ],
      "outputs": []
    },
    {
      "cell_type": "code",
      "execution_count": 1,
      "metadata": {
        "dotnet_interactive": {
          "language": "csharp"
        }
      },
      "source": [
        "user_feedback_json.ExploreWithNteract().Display();"
      ],
      "outputs": []
    },
    {
      "cell_type": "code",
      "execution_count": 1,
      "metadata": {
        "dotnet_interactive": {
          "language": "csharp"
        }
      },
      "source": [
        "server_logs_json.ExploreWithNteract().Display();"
      ],
      "outputs": []
    },
    {
      "cell_type": "code",
      "execution_count": 1,
      "metadata": {
        "dotnet_interactive": {
          "language": "csharp"
        }
      },
      "source": [
        "server_logs_json.ExploreWithSandDance().Display();"
      ],
      "outputs": []
    },
    {
      "cell_type": "code",
      "execution_count": 1,
      "metadata": {
        "dotnet_interactive": {
          "language": "csharp"
        }
      },
      "source": [
        "#r \"nuget:Microsoft.DotNet.Interactive.SqlServer,*-*\""
      ],
      "outputs": []
    },
    {
      "cell_type": "code",
      "execution_count": 1,
      "metadata": {
        "dotnet_interactive": {
          "language": "csharp"
        }
      },
      "source": [
        "#!connect mssql --kernel-name adventureworks --create-dbcontext \"Persist Security Info=False; Integrated Security=true; Initial Catalog=AdventureWorks2019; Server=localhost\""
      ],
      "outputs": []
    },
    {
      "cell_type": "code",
      "execution_count": 1,
      "metadata": {
        "dotnet_interactive": {
          "language": "sql"
        }
      },
      "source": [
        "#!sql-adventureworks\n",
        "SELECT \n",
        "product.ProductID,\n",
        "product.Name,\n",
        "category.ProductCategoryID,\n",
        "product.ProductSubcategoryID,\n",
        "category.Name\n",
        "FROM AdventureWorks2019.Production.Product as product\n",
        "INNER JOIN AdventureWorks2019.Production.ProductCategory as category on product.ProductSubcategoryID = category.ProductCategoryID"
      ],
      "outputs": []
    },
    {
      "cell_type": "code",
      "execution_count": 1,
      "metadata": {
        "dotnet_interactive": {
          "language": "csharp"
        }
      },
      "source": [
        "var reportedProducts = user_feedback_json.RootElement.EnumerateArray()\n",
        ".Select(e => int.Parse( e.GetProperty(\"url\").GetString().Split('/').Last() ))\n",
        ".Distinct()\n",
        ".ToHashSet();"
      ],
      "outputs": []
    },
    {
      "cell_type": "code",
      "execution_count": 1,
      "metadata": {
        "dotnet_interactive": {
          "language": "csharp"
        }
      },
      "source": [
        "var data = from review in adventureworks.ProductReview\n",
        "join product in adventureworks.Product on review.ProductId equals product.ProductId\n",
        "join subCategory in adventureworks.ProductSubcategory on product.ProductSubcategoryId equals subCategory.ProductSubcategoryId\n",
        "where review.Comments.Contains(\"<script\")\n",
        "select new { product.ProductId\n",
        "    ,product.Name\n",
        "    ,product.ProductNumber\n",
        "    ,subCategory.ProductSubcategoryId\n",
        "    ,subCategory.ProductCategoryId\n",
        "    ,category = $\"{subCategory.ProductCategoryId}-{subCategory.ProductSubcategoryId}\"\n",
        "    ,CommentLength = review.Comments.Length\n",
        "    ,review.Comments\n",
        "};"
      ],
      "outputs": []
    },
    {
      "cell_type": "code",
      "execution_count": 1,
      "metadata": {
        "dotnet_interactive": {
          "language": "csharp"
        }
      },
      "source": [
        "data.ExploreWithSandDance().Display();"
      ],
      "outputs": []
    },
    {
      "cell_type": "markdown",
      "metadata": {},
      "source": [
        "# results\n",
        "Hi Jon run the notebook, we have found the root cause, we are exposed to js injection and the affected pages are more than the number from the report\n",
        "\n",
        "\n",
        "![ppap](https://media4.giphy.com/media/CEF7ocyS0C9q/giphy.gif)"
      ]
    },
    {
      "cell_type": "code",
      "execution_count": 1,
      "metadata": {
        "dotnet_interactive": {
          "language": "csharp"
        }
      },
      "source": [
        "data.Count()"
      ],
      "outputs": []
    }
  ],
  "metadata": {
    "kernelspec": {
      "display_name": ".NET (C#)",
      "language": "C#",
      "name": ".net-csharp"
    },
    "language_info": {
      "file_extension": ".cs",
      "mimetype": "text/x-csharp",
      "name": "C#",
      "pygments_lexer": "csharp",
      "version": "8.0"
    }
  },
  "nbformat": 4,
  "nbformat_minor": 4
}